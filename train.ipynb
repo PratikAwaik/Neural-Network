{
 "cells": [
  {
   "cell_type": "markdown",
   "metadata": {},
   "source": [
    "## Testing the implementation of the algorithm. ##"
   ]
  },
  {
   "cell_type": "code",
   "execution_count": 3,
   "metadata": {},
   "outputs": [
    {
     "output_type": "execute_result",
     "data": {
      "text/plain": "          objid          ra       dec         u         g         r         i  \\\n0  1.240000e+18  183.531326  0.089693  19.47406  17.04240  15.94699  15.50342   \n1  1.240000e+18  183.598371  0.135285  18.66280  17.21449  16.67637  16.48922   \n2  1.240000e+18  183.680207  0.126185  19.38298  18.19169  17.47428  17.08732   \n3  1.240000e+18  183.870529  0.049911  17.76536  16.60272  16.16116  15.98233   \n4  1.240000e+18  183.883288  0.102557  17.55025  16.26342  16.43869  16.55492   \n\n          z  run  rerun  camcol  field     specobjid  redshift  plate    mjd  \\\n0  15.22531  752    301       4    267  3.720000e+18 -0.000009   3306  54922   \n1  16.39150  752    301       4    267  3.640000e+17 -0.000055    323  51615   \n2  16.80125  752    301       4    268  3.230000e+17  0.123111    287  52023   \n3  15.90438  752    301       4    269  3.720000e+18 -0.000111   3306  54922   \n4  16.61326  752    301       4    269  3.720000e+18  0.000590   3306  54922   \n\n   fiberid  class  \n0      491      1  \n1      541      1  \n2      513      2  \n3      510      1  \n4      512      1  ",
      "text/html": "<div>\n<style scoped>\n    .dataframe tbody tr th:only-of-type {\n        vertical-align: middle;\n    }\n\n    .dataframe tbody tr th {\n        vertical-align: top;\n    }\n\n    .dataframe thead th {\n        text-align: right;\n    }\n</style>\n<table border=\"1\" class=\"dataframe\">\n  <thead>\n    <tr style=\"text-align: right;\">\n      <th></th>\n      <th>objid</th>\n      <th>ra</th>\n      <th>dec</th>\n      <th>u</th>\n      <th>g</th>\n      <th>r</th>\n      <th>i</th>\n      <th>z</th>\n      <th>run</th>\n      <th>rerun</th>\n      <th>camcol</th>\n      <th>field</th>\n      <th>specobjid</th>\n      <th>redshift</th>\n      <th>plate</th>\n      <th>mjd</th>\n      <th>fiberid</th>\n      <th>class</th>\n    </tr>\n  </thead>\n  <tbody>\n    <tr>\n      <th>0</th>\n      <td>1.240000e+18</td>\n      <td>183.531326</td>\n      <td>0.089693</td>\n      <td>19.47406</td>\n      <td>17.04240</td>\n      <td>15.94699</td>\n      <td>15.50342</td>\n      <td>15.22531</td>\n      <td>752</td>\n      <td>301</td>\n      <td>4</td>\n      <td>267</td>\n      <td>3.720000e+18</td>\n      <td>-0.000009</td>\n      <td>3306</td>\n      <td>54922</td>\n      <td>491</td>\n      <td>1</td>\n    </tr>\n    <tr>\n      <th>1</th>\n      <td>1.240000e+18</td>\n      <td>183.598371</td>\n      <td>0.135285</td>\n      <td>18.66280</td>\n      <td>17.21449</td>\n      <td>16.67637</td>\n      <td>16.48922</td>\n      <td>16.39150</td>\n      <td>752</td>\n      <td>301</td>\n      <td>4</td>\n      <td>267</td>\n      <td>3.640000e+17</td>\n      <td>-0.000055</td>\n      <td>323</td>\n      <td>51615</td>\n      <td>541</td>\n      <td>1</td>\n    </tr>\n    <tr>\n      <th>2</th>\n      <td>1.240000e+18</td>\n      <td>183.680207</td>\n      <td>0.126185</td>\n      <td>19.38298</td>\n      <td>18.19169</td>\n      <td>17.47428</td>\n      <td>17.08732</td>\n      <td>16.80125</td>\n      <td>752</td>\n      <td>301</td>\n      <td>4</td>\n      <td>268</td>\n      <td>3.230000e+17</td>\n      <td>0.123111</td>\n      <td>287</td>\n      <td>52023</td>\n      <td>513</td>\n      <td>2</td>\n    </tr>\n    <tr>\n      <th>3</th>\n      <td>1.240000e+18</td>\n      <td>183.870529</td>\n      <td>0.049911</td>\n      <td>17.76536</td>\n      <td>16.60272</td>\n      <td>16.16116</td>\n      <td>15.98233</td>\n      <td>15.90438</td>\n      <td>752</td>\n      <td>301</td>\n      <td>4</td>\n      <td>269</td>\n      <td>3.720000e+18</td>\n      <td>-0.000111</td>\n      <td>3306</td>\n      <td>54922</td>\n      <td>510</td>\n      <td>1</td>\n    </tr>\n    <tr>\n      <th>4</th>\n      <td>1.240000e+18</td>\n      <td>183.883288</td>\n      <td>0.102557</td>\n      <td>17.55025</td>\n      <td>16.26342</td>\n      <td>16.43869</td>\n      <td>16.55492</td>\n      <td>16.61326</td>\n      <td>752</td>\n      <td>301</td>\n      <td>4</td>\n      <td>269</td>\n      <td>3.720000e+18</td>\n      <td>0.000590</td>\n      <td>3306</td>\n      <td>54922</td>\n      <td>512</td>\n      <td>1</td>\n    </tr>\n  </tbody>\n</table>\n</div>"
     },
     "metadata": {},
     "execution_count": 3
    }
   ],
   "source": [
    "# Data Source - https://www.kaggle.com/lucidlenn/sloan-digital-sky-survey\n",
    "\n",
    "# Classification of stars, galaxies and quasars.\n",
    "\n",
    "import pandas as pd\n",
    "import numpy as np\n",
    "import scipy.optimize\n",
    "\n",
    "#load the data\n",
    "data = pd.read_csv(\"CosmosObject.csv\")\n",
    "data.head()"
   ]
  },
  {
   "cell_type": "code",
   "execution_count": 4,
   "metadata": {},
   "outputs": [],
   "source": [
    "# Some feature selection\n",
    "\n",
    "data.drop(\"objid\", axis=1, inplace=True)\n",
    "X = data.iloc[:, :-1].values\n",
    "y = data.iloc[:, -1].values.reshape(-1, 1)"
   ]
  },
  {
   "cell_type": "code",
   "execution_count": 5,
   "metadata": {},
   "outputs": [],
   "source": [
    "# scale the features for better results\n",
    "from sklearn.preprocessing import StandardScaler\n",
    "\n",
    "scaler = StandardScaler()\n",
    "X_scaled = scaler.fit_transform(X)"
   ]
  },
  {
   "cell_type": "code",
   "execution_count": 6,
   "metadata": {},
   "outputs": [
    {
     "output_type": "execute_result",
     "data": {
      "text/plain": "((8000, 16), (8000, 1))"
     },
     "metadata": {},
     "execution_count": 6
    }
   ],
   "source": [
    "from sklearn.model_selection import train_test_split\n",
    "\n",
    "X_train, X_test, y_train, y_test = train_test_split(X_scaled, y, test_size=0.2, random_state=42)\n",
    "X_train.shape, y_train.shape"
   ]
  },
  {
   "cell_type": "code",
   "execution_count": 7,
   "metadata": {
    "tags": []
   },
   "outputs": [
    {
     "output_type": "stream",
     "name": "stdout",
     "text": "Training Neural Network...\nMinimizing Cost Function... this may take some time...\nTraining Done...\n"
    }
   ],
   "source": [
    "# import simple neural network\n",
    "import nn\n",
    "\n",
    "# try with default parameters and 1 hidden layer with 28 units\n",
    "neural_net = nn.NeuralNetwork(28)\n",
    "neural_net.fit(X_train, y_train)"
   ]
  },
  {
   "cell_type": "code",
   "execution_count": 8,
   "metadata": {},
   "outputs": [
    {
     "output_type": "execute_result",
     "data": {
      "text/plain": "0.9015"
     },
     "metadata": {},
     "execution_count": 8
    }
   ],
   "source": [
    "# predicting on train set to see how well it did \n",
    "preds = neural_net.predict(X_train)\n",
    "np.mean(preds == y_train)"
   ]
  },
  {
   "cell_type": "code",
   "execution_count": 9,
   "metadata": {},
   "outputs": [
    {
     "output_type": "execute_result",
     "data": {
      "text/plain": "0.8795"
     },
     "metadata": {},
     "execution_count": 9
    }
   ],
   "source": [
    "# predicting on test set\n",
    "test_preds = neural_net.predict(X_test)\n",
    "np.mean(test_preds == y_test)"
   ]
  },
  {
   "cell_type": "markdown",
   "metadata": {},
   "source": [
    "### Testing with multiple hidden layers and some random parameters ###"
   ]
  },
  {
   "cell_type": "code",
   "execution_count": 10,
   "metadata": {
    "tags": []
   },
   "outputs": [
    {
     "output_type": "stream",
     "name": "stdout",
     "text": "Training Neural Network...\nMinimizing Cost Function... this may take some time...\nTraining Done...\n"
    }
   ],
   "source": [
    "neural_net_multiple = nn.NeuralNetwork(28, 28, 28, alpha=0.85, epsilon=0.3, maxiter=200)\n",
    "neural_net_multiple.fit(X_train, y_train)"
   ]
  },
  {
   "cell_type": "code",
   "execution_count": 11,
   "metadata": {},
   "outputs": [
    {
     "output_type": "execute_result",
     "data": {
      "text/plain": "0.91075"
     },
     "metadata": {},
     "execution_count": 11
    }
   ],
   "source": [
    "# predicting on train set to see how well it did\n",
    "# The performance might decrease because the training set is small \n",
    "multiple_preds = neural_net_multiple.predict(X_train)\n",
    "np.mean(multiple_preds == y_train)"
   ]
  },
  {
   "cell_type": "code",
   "execution_count": 12,
   "metadata": {},
   "outputs": [
    {
     "output_type": "execute_result",
     "data": {
      "text/plain": "0.894"
     },
     "metadata": {},
     "execution_count": 12
    }
   ],
   "source": [
    "# Nice, the performance actually increased\n",
    "# predicting on test set\n",
    "multiple_test_preds = neural_net_multiple.predict(X_test)\n",
    "np.mean(multiple_test_preds == y_test)"
   ]
  },
  {
   "cell_type": "code",
   "execution_count": null,
   "metadata": {},
   "outputs": [],
   "source": []
  }
 ],
 "metadata": {
  "kernelspec": {
   "display_name": "Python 3.8.2 64-bit",
   "language": "python",
   "name": "python_defaultSpec_1597150252082"
  },
  "language_info": {
   "codemirror_mode": {
    "name": "ipython",
    "version": 3
   },
   "file_extension": ".py",
   "mimetype": "text/x-python",
   "name": "python",
   "nbconvert_exporter": "python",
   "pygments_lexer": "ipython3",
   "version": "3.7.6"
  }
 },
 "nbformat": 4,
 "nbformat_minor": 2
}